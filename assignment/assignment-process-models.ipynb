{
 "cells": [
  {
   "cell_type": "markdown",
   "metadata": {},
   "source": [
    "# Assignment - Process Models"
   ]
  },
  {
   "cell_type": "markdown",
   "metadata": {},
   "source": [
    "The notion of *degree of belief* is central to scientific thinking. It is somehow a part of our human nature to believe statements that have little to no supporting evidence. Another way of thinking about the amount of available evidence is that it is the process of quantifying uncertainty.  The notion of a degree of belief can be formalized using [Bayes' theorem](https://en.wikipedia.org/wiki/Bayes%27_theorem). For your reference here is a paper that [discusses the notion of degree of belief](https://www.sciencedirect.com/topics/mathematics/degree-of-belief).\n",
    "\n",
    "For this assignment it suffices to know that with more evidence available, ideally in the form of repeated independent experiments, ones degree of belief should change. Evidence is derived from the scientific process and if we have none to beging with then we are stuck at the question stage and a proper scientific hypothesis cannot be made.  Recall the scientific process.\n",
    "\n",
    "1. Formulate the question\n",
    ">Does Colorado have better skiing than Utah?\n",
    "2. Generate a hypothesis to address the question\n",
    ">It is commonly said that fresh powder is essential for better skiing.  Not knowing which state has more snowfall on average we hypothesize that the average amount of fresh snow between Colorado and Utah are different.\n",
    "3. Make a prediction\n",
    "4. Conduct an experiment\n",
    "5. Analyze the data and draw a conclusion\n",
    "\n",
    "We are going to step through the scientific process in this assignment using the above stated hypothesis.  There are ways using experimentation (surveys, blinded studies etc) to test if one state has better skiing more directly, but **the hypothesis should be written in a way that is appropriate given the available data**.  So let's load the data for a ski resort in Colorado and another in Utah."
   ]
  },
  {
   "cell_type": "code",
   "execution_count": 28,
   "metadata": {},
   "outputs": [],
   "source": [
    "import numpy as np\n",
    "import pandas as pd\n",
    "from IPython.display import display\n",
    "\n",
    "%matplotlib inline"
   ]
  },
  {
   "cell_type": "code",
   "execution_count": 29,
   "metadata": {},
   "outputs": [],
   "source": [
    "snowbird = pd.read_csv(\"../data/snowbird-UT.csv\")\n",
    "telluride = pd.read_csv(\"../data/telluride-CO.csv\")"
   ]
  },
  {
   "cell_type": "markdown",
   "metadata": {},
   "source": [
    "## Question 1\n",
    "\n",
    "Make a prediction.  Before you run your experiment you should write down what you know about the problem.  In practice this step is often carried out with a domain expert or someone that has detailed knowledge of the business opportunity."
   ]
  },
  {
   "cell_type": "markdown",
   "metadata": {},
   "source": [
    "> your text here"
   ]
  },
  {
   "cell_type": "markdown",
   "metadata": {},
   "source": [
    "## Question 2\n",
    "\n",
    "Explore the data."
   ]
  },
  {
   "cell_type": "code",
   "execution_count": 36,
   "metadata": {},
   "outputs": [],
   "source": [
    "## your code here\n",
    "\n"
   ]
  },
  {
   "cell_type": "markdown",
   "metadata": {},
   "source": [
    "## Question 3\n",
    "\n",
    "For visualization, hypothesis testing and many types of modeling efforts it is often convenient if the input data takes the form of a single Pandas data frame or NumPy array.  Combine the two data frames into a single container and ensure that there is a column to indicate the resort. \n",
    "\n",
    "* [merge and concatenate in pandas](https://pandas.pydata.org/pandas-docs/stable/user_guide/merging.html)"
   ]
  },
  {
   "cell_type": "code",
   "execution_count": 35,
   "metadata": {},
   "outputs": [],
   "source": [
    "## your code here\n",
    "\n"
   ]
  },
  {
   "cell_type": "markdown",
   "metadata": {},
   "source": [
    "## Question 4\n",
    "\n",
    "Visualization by simple plots and by tabular summaries is central to the investigative process in data science.  Use both a tabular summary and a simple plot to compare the two resorts.\n",
    "\n",
    "* [pivot tables in pandas](https://pandas.pydata.org/pandas-docs/stable/user_guide/reshaping.html)\n",
    "* [simple plots in pandas](https://pandas.pydata.org/pandas-docs/stable/user_guide/visualization.html)"
   ]
  },
  {
   "cell_type": "code",
   "execution_count": 32,
   "metadata": {},
   "outputs": [],
   "source": [
    "## your code here\n",
    "\n"
   ]
  },
  {
   "cell_type": "markdown",
   "metadata": {},
   "source": [
    "The other important side to degree of belief is that it never caps out at 100 percent certainty. Some hypotheses have become laws like [Newton’s Law of Gravitation](https://en.wikipedia.org/wiki/Newton%27s_law_of_universal_gravitation), but most natural phenomena in the world outside of physics cannot be explained as a law.\n",
    "\n",
    "A hypothesis is the simplest explanation of a phenomenon. A scientific theory is an in-depth explanation of the observed phenomenon. Do not be mistaken with the word theory. There can be sufficient evidence that your degree of belief all but touches 100%, and is sufficient for decision-making purposes. A built-in safeguard for scientific thought is that our degree of belief never reaches 100%, which leaves some room to find new evidence that could move the dial in the other direction."
   ]
  },
  {
   "cell_type": "markdown",
   "metadata": {},
   "source": [
    "## Question 5\n",
    "\n",
    "There are many ways to carry out hypothesis tests when it comes to these types of data.  A simple t-test,  permutation test, Fisher's exact test and more can be used. In practice you would identify the test you want to use **before** collecting the data.  Use any hypothesis test your would like to test your original hypothesis."
   ]
  },
  {
   "cell_type": "code",
   "execution_count": 33,
   "metadata": {},
   "outputs": [],
   "source": [
    "## your code here\n",
    "\n"
   ]
  },
  {
   "cell_type": "markdown",
   "metadata": {},
   "source": [
    "## Question 6\n",
    "\n",
    "Clearly state your conclusion based on the experiment that you have just run."
   ]
  },
  {
   "cell_type": "markdown",
   "metadata": {},
   "source": [
    ">your text here"
   ]
  },
  {
   "cell_type": "markdown",
   "metadata": {},
   "source": [
    "### more on the scientific method\n",
    "\n",
    "Outside of carefully wording your hypotheses and conclusions there are additional factors like external peer review that help ensure the integrity of the scientific method. In the case of implementing a model for a specific business task, this could mean assigning reviewers for a pull request, pair programming or simply asking other qualified individuals to check over your work."
   ]
  },
  {
   "cell_type": "markdown",
   "metadata": {},
   "source": [
    "## Extra credit\n",
    "\n",
    "There are a few other ski resorts in the data file.  You can sharpen your skills by incorporating them into a broader comparison."
   ]
  },
  {
   "cell_type": "code",
   "execution_count": 34,
   "metadata": {},
   "outputs": [
    {
     "name": "stdout",
     "output_type": "stream",
     "text": [
      "jackson_hole-WY.csv  snowbird-UT.csv   whistler_blackcomb-BC.csv\r\n",
      "README.md\t     telluride-CO.csv\r\n"
     ]
    }
   ],
   "source": [
    "## your code here\n",
    "\n",
    "!ls ../data"
   ]
  },
  {
   "cell_type": "code",
   "execution_count": null,
   "metadata": {},
   "outputs": [],
   "source": []
  }
 ],
 "metadata": {
  "kernelspec": {
   "display_name": "Python 3",
   "language": "python",
   "name": "python3"
  },
  "language_info": {
   "codemirror_mode": {
    "name": "ipython",
    "version": 3
   },
   "file_extension": ".py",
   "mimetype": "text/x-python",
   "name": "python",
   "nbconvert_exporter": "python",
   "pygments_lexer": "ipython3",
   "version": "3.7.7"
  }
 },
 "nbformat": 4,
 "nbformat_minor": 4
}
